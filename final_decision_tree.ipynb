{
 "cells": [
  {
   "cell_type": "code",
   "execution_count": 26,
   "id": "6d2a1a68-68b5-401f-b801-835f38afab6b",
   "metadata": {},
   "outputs": [],
   "source": [
    "import numpy as np\n",
    "import pandas as pd\n",
    "import matplotlib.pyplot as plt\n",
    "import seaborn as sns\n",
    "from matplotlib.colors import ListedColormap\n",
    "\n",
    "from sklearn.linear_model import LogisticRegression\n",
    "\n",
    "from sklearn import tree\n",
    "from sklearn.tree import DecisionTreeClassifier\n",
    "\n",
    "from sklearn.model_selection import train_test_split\n",
    "from sklearn.metrics import classification_report, confusion_matrix\n",
    "\n",
    "from sklearn.model_selection import GridSearchCV\n",
    "from sklearn.preprocessing import StandardScaler"
   ]
  },
  {
   "cell_type": "code",
   "execution_count": 21,
   "id": "ecceac7f-a848-423b-a203-55130efa05fd",
   "metadata": {},
   "outputs": [
    {
     "name": "stdout",
     "output_type": "stream",
     "text": [
      "   id gender   race age_at_release  residence_puma gang_affiliated  \\\n",
      "0   1      M  BLACK          43-47              16           False   \n",
      "1   2      M  BLACK          33-37              16           False   \n",
      "2   3      M  BLACK    48 or older              24           False   \n",
      "3   4      M  WHITE          38-42              16           False   \n",
      "4   5      M  WHITE          33-37              16           False   \n",
      "\n",
      "   supervision_risk_score_first supervision_level_first  \\\n",
      "0                           3.0                Standard   \n",
      "1                           6.0             Specialized   \n",
      "2                           7.0                    High   \n",
      "3                           7.0                    High   \n",
      "4                           4.0             Specialized   \n",
      "\n",
      "         education_level dependents  ... drugtests_meth_positive  \\\n",
      "0  At least some college  3 or more  ...                0.000000   \n",
      "1   Less than HS diploma          1  ...                0.000000   \n",
      "2  At least some college  3 or more  ...                0.166667   \n",
      "3   Less than HS diploma          1  ...                0.000000   \n",
      "4   Less than HS diploma  3 or more  ...                0.058824   \n",
      "\n",
      "  drugtests_other_positive percent_days_employed jobs_per_year  \\\n",
      "0                      0.0              0.488562      0.447610   \n",
      "1                      0.0              0.425234      2.000000   \n",
      "2                      0.0              0.000000      0.000000   \n",
      "3                      0.0              1.000000      0.718996   \n",
      "4                      0.0              0.203562      0.929389   \n",
      "\n",
      "  employment_exempt recidivism_within_3years recidivism_arrest_year1  \\\n",
      "0             False                    False                   False   \n",
      "1             False                     True                   False   \n",
      "2             False                     True                   False   \n",
      "3             False                    False                   False   \n",
      "4             False                     True                    True   \n",
      "\n",
      "  recidivism_arrest_year2  recidivism_arrest_year3  training_sample  \n",
      "0                   False                    False                1  \n",
      "1                   False                     True                1  \n",
      "2                    True                    False                1  \n",
      "3                   False                    False                1  \n",
      "4                   False                    False                1  \n",
      "\n",
      "[5 rows x 54 columns]\n"
     ]
    }
   ],
   "source": [
    "url = \"https://data.ojp.usdoj.gov/resource/ynf5-u8nk.csv\"\n",
    "df = pd.read_csv(url)\n",
    "\n",
    "# Explore the dataset\n",
    "print(df.head())"
   ]
  },
  {
   "cell_type": "code",
   "execution_count": 22,
   "id": "12c467cd-c39b-4d1e-88ff-6afe54d657cf",
   "metadata": {},
   "outputs": [],
   "source": [
    "#print(df.info())"
   ]
  },
  {
   "cell_type": "code",
   "execution_count": 23,
   "id": "fb098d10-9c65-4a72-b0dd-f131cbabdc81",
   "metadata": {},
   "outputs": [],
   "source": [
    "#print(df.describe())"
   ]
  },
  {
   "cell_type": "code",
   "execution_count": 24,
   "id": "f85134ae-3669-4224-9626-daf13696bbeb",
   "metadata": {},
   "outputs": [
    {
     "name": "stdout",
     "output_type": "stream",
     "text": [
      "119\n"
     ]
    }
   ],
   "source": [
    "# Drop columns\n",
    "df = df.drop(columns=[\"id\"])\n",
    "\n",
    "# Convert categorical variables to dummy variables\n",
    "df = pd.get_dummies(df, drop_first=True)\n",
    "\n",
    "# Handle missing values if any\n",
    "df = df.dropna()\n",
    "\n",
    "# Define features and target variable\n",
    "X = df.drop(\n",
    "    columns=[\n",
    "        \"recidivism_within_3years\",\n",
    "        \"recidivism_arrest_year1\",\n",
    "        \"recidivism_arrest_year2\",\n",
    "        \"recidivism_arrest_year3\",\n",
    "    ],\n",
    "    axis=1,\n",
    ")\n",
    "y = df[\"recidivism_within_3years\"]\n",
    "\n",
    "print(len(df.columns))\n",
    "\n",
    "# Split the data into training and testing sets\n",
    "X_train, X_test, y_train, y_test = train_test_split(X, y, test_size=0.3, random_state=42)"
   ]
  },
  {
   "cell_type": "markdown",
   "id": "e067b7d9-94a3-45d2-b883-764292ca1f4d",
   "metadata": {},
   "source": [
    "**LOGISTIC REGRESSION**"
   ]
  },
  {
   "cell_type": "code",
   "execution_count": 27,
   "id": "5aec785c-8ed7-473b-bebe-4da511e0e1ea",
   "metadata": {},
   "outputs": [
    {
     "name": "stdout",
     "output_type": "stream",
     "text": [
      "                                 Feature  Coefficient\n",
      "0                         residence_puma    -0.039025\n",
      "1           supervision_risk_score_first     0.000000\n",
      "2                prior_arrest_episodes_1     0.036453\n",
      "3                prior_arrest_episodes_2     0.078853\n",
      "4            prior_conviction_episodes_2     0.178448\n",
      "..                                   ...          ...\n",
      "110          program_unexcusedabsences_2    -0.108559\n",
      "111  program_unexcusedabsences_3 or more     0.118189\n",
      "112                  residence_changes_1     0.000242\n",
      "113                  residence_changes_2     0.061021\n",
      "114          residence_changes_3 or more     0.367359\n",
      "\n",
      "[115 rows x 2 columns]\n"
     ]
    }
   ],
   "source": [
    "# Standardize features\n",
    "scaler = StandardScaler()\n",
    "X_train_scaled = scaler.fit_transform(X_train)\n",
    "X_test_scaled = scaler.transform(X_test)\n",
    "\n",
    "# Train the Lasso logistic regression model\n",
    "lasso_model = LogisticRegression(penalty=\"l1\", solver=\"liblinear\", random_state=42)\n",
    "lasso_model.fit(X_train_scaled, y_train)\n",
    "\n",
    "# Print coefficients\n",
    "coef_df = pd.DataFrame({\"Feature\": X.columns, \"Coefficient\": lasso_model.coef_[0]})\n",
    "print(coef_df)\n",
    "\n",
    "# Predictions and Evaluation\n",
    "y_pred_logistic = lasso_model.predict(X_test_scaled)"
   ]
  },
  {
   "cell_type": "markdown",
   "id": "5a7c44e1-36a9-4bcc-aa9c-25e2729f2114",
   "metadata": {},
   "source": [
    "**DECISION TREE**"
   ]
  },
  {
   "cell_type": "code",
   "execution_count": 28,
   "id": "802d9c90-b114-452e-a1e3-dfdcd39cdd62",
   "metadata": {},
   "outputs": [],
   "source": [
    "#train decision tree\n",
    "\n",
    "clf = DecisionTreeClassifier() #clf to denote classifier"
   ]
  },
  {
   "cell_type": "code",
   "execution_count": 29,
   "id": "96f55630-c263-4194-8197-0ec213a90372",
   "metadata": {},
   "outputs": [
    {
     "name": "stdout",
     "output_type": "stream",
     "text": [
      "Best Parameters: {'criterion': 'entropy', 'max_depth': 10, 'min_samples_leaf': 1, 'min_samples_split': 5}\n"
     ]
    },
    {
     "data": {
      "text/html": [
       "<style>#sk-container-id-3 {color: black;}#sk-container-id-3 pre{padding: 0;}#sk-container-id-3 div.sk-toggleable {background-color: white;}#sk-container-id-3 label.sk-toggleable__label {cursor: pointer;display: block;width: 100%;margin-bottom: 0;padding: 0.3em;box-sizing: border-box;text-align: center;}#sk-container-id-3 label.sk-toggleable__label-arrow:before {content: \"▸\";float: left;margin-right: 0.25em;color: #696969;}#sk-container-id-3 label.sk-toggleable__label-arrow:hover:before {color: black;}#sk-container-id-3 div.sk-estimator:hover label.sk-toggleable__label-arrow:before {color: black;}#sk-container-id-3 div.sk-toggleable__content {max-height: 0;max-width: 0;overflow: hidden;text-align: left;background-color: #f0f8ff;}#sk-container-id-3 div.sk-toggleable__content pre {margin: 0.2em;color: black;border-radius: 0.25em;background-color: #f0f8ff;}#sk-container-id-3 input.sk-toggleable__control:checked~div.sk-toggleable__content {max-height: 200px;max-width: 100%;overflow: auto;}#sk-container-id-3 input.sk-toggleable__control:checked~label.sk-toggleable__label-arrow:before {content: \"▾\";}#sk-container-id-3 div.sk-estimator input.sk-toggleable__control:checked~label.sk-toggleable__label {background-color: #d4ebff;}#sk-container-id-3 div.sk-label input.sk-toggleable__control:checked~label.sk-toggleable__label {background-color: #d4ebff;}#sk-container-id-3 input.sk-hidden--visually {border: 0;clip: rect(1px 1px 1px 1px);clip: rect(1px, 1px, 1px, 1px);height: 1px;margin: -1px;overflow: hidden;padding: 0;position: absolute;width: 1px;}#sk-container-id-3 div.sk-estimator {font-family: monospace;background-color: #f0f8ff;border: 1px dotted black;border-radius: 0.25em;box-sizing: border-box;margin-bottom: 0.5em;}#sk-container-id-3 div.sk-estimator:hover {background-color: #d4ebff;}#sk-container-id-3 div.sk-parallel-item::after {content: \"\";width: 100%;border-bottom: 1px solid gray;flex-grow: 1;}#sk-container-id-3 div.sk-label:hover label.sk-toggleable__label {background-color: #d4ebff;}#sk-container-id-3 div.sk-serial::before {content: \"\";position: absolute;border-left: 1px solid gray;box-sizing: border-box;top: 0;bottom: 0;left: 50%;z-index: 0;}#sk-container-id-3 div.sk-serial {display: flex;flex-direction: column;align-items: center;background-color: white;padding-right: 0.2em;padding-left: 0.2em;position: relative;}#sk-container-id-3 div.sk-item {position: relative;z-index: 1;}#sk-container-id-3 div.sk-parallel {display: flex;align-items: stretch;justify-content: center;background-color: white;position: relative;}#sk-container-id-3 div.sk-item::before, #sk-container-id-3 div.sk-parallel-item::before {content: \"\";position: absolute;border-left: 1px solid gray;box-sizing: border-box;top: 0;bottom: 0;left: 50%;z-index: -1;}#sk-container-id-3 div.sk-parallel-item {display: flex;flex-direction: column;z-index: 1;position: relative;background-color: white;}#sk-container-id-3 div.sk-parallel-item:first-child::after {align-self: flex-end;width: 50%;}#sk-container-id-3 div.sk-parallel-item:last-child::after {align-self: flex-start;width: 50%;}#sk-container-id-3 div.sk-parallel-item:only-child::after {width: 0;}#sk-container-id-3 div.sk-dashed-wrapped {border: 1px dashed gray;margin: 0 0.4em 0.5em 0.4em;box-sizing: border-box;padding-bottom: 0.4em;background-color: white;}#sk-container-id-3 div.sk-label label {font-family: monospace;font-weight: bold;display: inline-block;line-height: 1.2em;}#sk-container-id-3 div.sk-label-container {text-align: center;}#sk-container-id-3 div.sk-container {/* jupyter's `normalize.less` sets `[hidden] { display: none; }` but bootstrap.min.css set `[hidden] { display: none !important; }` so we also need the `!important` here to be able to override the default hidden behavior on the sphinx rendered scikit-learn.org. See: https://github.com/scikit-learn/scikit-learn/issues/21755 */display: inline-block !important;position: relative;}#sk-container-id-3 div.sk-text-repr-fallback {display: none;}</style><div id=\"sk-container-id-3\" class=\"sk-top-container\"><div class=\"sk-text-repr-fallback\"><pre>DecisionTreeClassifier(criterion=&#x27;entropy&#x27;, max_depth=10, min_samples_split=5)</pre><b>In a Jupyter environment, please rerun this cell to show the HTML representation or trust the notebook. <br />On GitHub, the HTML representation is unable to render, please try loading this page with nbviewer.org.</b></div><div class=\"sk-container\" hidden><div class=\"sk-item\"><div class=\"sk-estimator sk-toggleable\"><input class=\"sk-toggleable__control sk-hidden--visually\" id=\"sk-estimator-id-3\" type=\"checkbox\" checked><label for=\"sk-estimator-id-3\" class=\"sk-toggleable__label sk-toggleable__label-arrow\">DecisionTreeClassifier</label><div class=\"sk-toggleable__content\"><pre>DecisionTreeClassifier(criterion=&#x27;entropy&#x27;, max_depth=10, min_samples_split=5)</pre></div></div></div></div></div>"
      ],
      "text/plain": [
       "DecisionTreeClassifier(criterion='entropy', max_depth=10, min_samples_split=5)"
      ]
     },
     "execution_count": 29,
     "metadata": {},
     "output_type": "execute_result"
    }
   ],
   "source": [
    "param_grid = {\n",
    "    'criterion': ['gini', 'entropy'],\n",
    "    'max_depth': [None, 5, 10, 15, 20],\n",
    "    'min_samples_split': [2, 5, 10],\n",
    "    'min_samples_leaf': [1, 2, 4]\n",
    "}\n",
    "\n",
    "# Using GridSearchCV for hyperparameter tuning\n",
    "grid_search = GridSearchCV(clf, param_grid, cv=5, scoring='accuracy', n_jobs=-1)\n",
    "grid_search.fit(X_train, y_train)\n",
    "\n",
    "# Best parameters found by GridSearchCV\n",
    "best_params = grid_search.best_params_\n",
    "print(\"Best Parameters:\", best_params)\n",
    "\n",
    "# Using the best estimator found by GridSearchCV\n",
    "best_clf = grid_search.best_estimator_\n",
    "\n",
    "# Fit the model with the best parameters on the training data\n",
    "best_clf.fit(X_train, y_train)"
   ]
  },
  {
   "cell_type": "code",
   "execution_count": null,
   "id": "aefba0c8-02a5-4923-8ef4-66e1da66332e",
   "metadata": {},
   "outputs": [],
   "source": [
    "from sklearn.metrics import confusion_matrix, classification_report\n",
    "\n",
    "# Evaluate Decision Tree Classifier\n",
    "y_pred_tree = best_clf.predict(X_test)\n",
    "conf_matrix_tree = confusion_matrix(y_test, y_pred_tree) #conf matrix of Decision Tree\n",
    "class_report_tree = classification_report(y_test, y_pred_tree)\n",
    "\n",
    "# Evaluate Logistic Regression\n",
    "conf_matrix_logistic = confusion_matrix(y_test, y_pred_logistic)\n",
    "class_report_logistic = classification_report(y_test, y_pred_logistic)\n",
    "\n",
    "\n",
    "# Display confusion matrices and classification reports\n",
    "print(\"Confusion Matrix - Decision Tree Classifier:\")\n",
    "print(conf_matrix_tree)\n",
    "print(\"\\nClassification Report - Decision Tree Classifier:\")\n",
    "print(class_report_tree)\n",
    "\n",
    "print(\"\\nConfusion Matrix - Logistic Regression:\")\n",
    "print(conf_matrix_logistic)\n",
    "print(\"\\nClassification Report - Logistic Regression:\")\n",
    "print(class_report_logistic)"
   ]
  }
 ],
 "metadata": {
  "kernelspec": {
   "display_name": "Python 3 (ipykernel)",
   "language": "python",
   "name": "python3"
  },
  "language_info": {
   "codemirror_mode": {
    "name": "ipython",
    "version": 3
   },
   "file_extension": ".py",
   "mimetype": "text/x-python",
   "name": "python",
   "nbconvert_exporter": "python",
   "pygments_lexer": "ipython3",
   "version": "3.10.9"
  }
 },
 "nbformat": 4,
 "nbformat_minor": 5
}
